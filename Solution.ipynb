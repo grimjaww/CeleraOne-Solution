{
 "cells": [
  {
   "cell_type": "markdown",
   "metadata": {
    "deletable": true,
    "editable": true
   },
   "source": [
    "## Pipeline\n",
    "\n",
    "1. Load/Parse features\n",
    "\n",
    "2. Load/Parse labels\n",
    "\n",
    "3. Load/Parse feature names\n",
    "\n",
    "4. Perform evaluation of feature importance with **Mean decrease impurity method** (Using `feature_importances_` measure from `RandomForestRegressor`, sklearn library)\n",
    "\n",
    "5. Sort/Visualize the result\n",
    "\n",
    "\n",
    "Good article about selecting good feature is [HERE](http://blog.datadive.net/selecting-good-features-part-iii-random-forests/) "
   ]
  },
  {
   "cell_type": "code",
   "execution_count": null,
   "metadata": {
    "collapsed": false,
    "deletable": true,
    "editable": true,
    "scrolled": true
   },
   "outputs": [],
   "source": [
    "import numpy as np\n",
    "import pandas as pd\n",
    "\n",
    "# Read CSV\n",
    "task_file = 'task_data.csv'\n",
    "with open(task_file, mode = 'rb') as f:\n",
    "    data = pd.read_csv(f)\n",
    "    \n",
    "# Extract names of each column (using pandas)\n",
    "headers = np.array(list(data.columns.values))\n",
    "names = headers[2:]\n",
    "print (\"Feature names shape is {}\".format(names.shape))\n",
    "\n",
    "# Extract features (using pandas and numpy)\n",
    "np_array = data.as_matrix()\n",
    "X = np_array[:,2:]\n",
    "print (\"Features shape is {}\".format(X.shape))\n",
    "\n",
    "# Extract labels (using pandas)\n",
    "Y = data['class_label'].as_matrix()\n",
    "print (\"Labels shape is {}\".format(Y.shape))"
   ]
  },
  {
   "cell_type": "code",
   "execution_count": null,
   "metadata": {
    "collapsed": false,
    "deletable": true,
    "editable": true,
    "scrolled": true
   },
   "outputs": [],
   "source": [
    "from sklearn.ensemble import RandomForestRegressor\n",
    "\n",
    "\n",
    "rf = RandomForestRegressor()\n",
    "# Fit the model\n",
    "rf.fit(X, Y)\n",
    "\n",
    "# Sort in-place from highest to lowest\n",
    "rank = sorted(zip(map(lambda x: round(x, 2), \n",
    "                      rf.feature_importances_), names), reverse=True)\n",
    "print(\"Features and Predictive Scores:\")\n",
    "for el in rank: print(el)"
   ]
  },
  {
   "cell_type": "code",
   "execution_count": null,
   "metadata": {
    "collapsed": false,
    "deletable": true,
    "editable": true
   },
   "outputs": [],
   "source": [
    "# Reference: http://stackoverflow.com/questions/13925251/python-bar-plot-from-list-of-tuples\n",
    "\n",
    "import matplotlib.pyplot as plt\n",
    "# Visualizations will be shown in the notebook.\n",
    "%matplotlib inline\n",
    "\n",
    "# Save the labels and their importance scores separately\n",
    "score = list(zip(*rank))[0]\n",
    "sensors = list(zip(*rank))[1]\n",
    "\n",
    "x_pos = np.arange(len(sensors)) \n",
    "fig = plt.figure(figsize=(14, 8))\n",
    "plt.bar(x_pos, score, align='center')\n",
    "plt.xticks(x_pos, sensors) \n",
    "plt.ylabel('Importance Scores')\n",
    "plt.show()"
   ]
  },
  {
   "cell_type": "code",
   "execution_count": null,
   "metadata": {
    "collapsed": true,
    "deletable": true,
    "editable": true
   },
   "outputs": [],
   "source": []
  }
 ],
 "metadata": {
  "kernelspec": {
   "display_name": "Python 3",
   "language": "python",
   "name": "python3"
  },
  "language_info": {
   "codemirror_mode": {
    "name": "ipython",
    "version": 3
   },
   "file_extension": ".py",
   "mimetype": "text/x-python",
   "name": "python",
   "nbconvert_exporter": "python",
   "pygments_lexer": "ipython3",
   "version": "3.5.2"
  },
  "widgets": {
   "state": {},
   "version": "1.1.2"
  }
 },
 "nbformat": 4,
 "nbformat_minor": 2
}
