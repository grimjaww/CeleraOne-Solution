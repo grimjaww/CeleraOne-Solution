{
 "cells": [
  {
   "cell_type": "markdown",
   "metadata": {},
   "source": [
    "## Pipeline\n",
    "\n",
    "1. Load/Parse features\n",
    "\n",
    "2. Load/Parse labels\n",
    "\n",
    "3. Load/Parse feature names\n",
    "\n",
    "4. Perform evaluation of feature importance by doing direct measure the impact of each feature on the accuracy of the model (**Mean decrease accuracy**).\n",
    "\n",
    "5. Sort/Visualize the result\n",
    "\n",
    "\n",
    "Good article about selecting good feature is [HERE](http://blog.datadive.net/selecting-good-features-part-iii-random-forests/) "
   ]
  },
  {
   "cell_type": "code",
   "execution_count": null,
   "metadata": {
    "collapsed": false,
    "scrolled": true
   },
   "outputs": [],
   "source": [
    "import numpy as np\n",
    "import pandas as pd\n",
    "\n",
    "# Read CSV\n",
    "task_file = 'task_data.csv'\n",
    "with open(task_file, mode = 'rb') as f:\n",
    "    data = pd.read_csv(f)\n",
    "# Extract names of each column (using pandas)\n",
    "labels = list(data.columns.values)\n",
    "\n",
    "# Extract features (using pandas and numpy)\n",
    "np_array = data.as_matrix()\n",
    "X = np_array[:,2:]\n",
    "print (\"Features shape is {}\".format(X.shape))\n",
    "\n",
    "# Extract labels (using pandas)\n",
    "y = data['class_label'].as_matrix()\n",
    "print (\"Labels shape is {}\".format(y.shape))\n"
   ]
  },
  {
   "cell_type": "code",
   "execution_count": null,
   "metadata": {
    "collapsed": true
   },
   "outputs": [],
   "source": []
  }
 ],
 "metadata": {
  "kernelspec": {
   "display_name": "Python 3",
   "language": "python",
   "name": "python3"
  },
  "language_info": {
   "codemirror_mode": {
    "name": "ipython",
    "version": 3
   },
   "file_extension": ".py",
   "mimetype": "text/x-python",
   "name": "python",
   "nbconvert_exporter": "python",
   "pygments_lexer": "ipython3",
   "version": "3.5.2"
  },
  "widgets": {
   "state": {},
   "version": "1.1.2"
  }
 },
 "nbformat": 4,
 "nbformat_minor": 2
}
